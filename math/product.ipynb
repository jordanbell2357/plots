{
 "cells": [
  {
   "cell_type": "code",
   "execution_count": 1,
   "id": "46260b04-bcc9-4f4f-b417-52ec84eb5556",
   "metadata": {},
   "outputs": [
    {
     "name": "stdout",
     "output_type": "stream",
     "text": [
      "(8.153364119811167, 9.052052573966981e-14)\n"
     ]
    }
   ],
   "source": [
    "import scipy\n",
    "from scipy.integrate import quad\n",
    "from math import *\n",
    " \n",
    "def f(x):\n",
    "    return x ** 4 * log(x + sqrt(x ** 2 + 1))\n",
    " \n",
    "print(quad(f, 0, 2))"
   ]
  },
  {
   "cell_type": "code",
   "execution_count": null,
   "id": "a8b40086-8661-4e6a-93b1-0e627d775d17",
   "metadata": {},
   "outputs": [],
   "source": []
  }
 ],
 "metadata": {
  "kernelspec": {
   "display_name": "Python 3",
   "language": "python",
   "name": "python3"
  },
  "language_info": {
   "codemirror_mode": {
    "name": "ipython",
    "version": 3
   },
   "file_extension": ".py",
   "mimetype": "text/x-python",
   "name": "python",
   "nbconvert_exporter": "python",
   "pygments_lexer": "ipython3",
   "version": "3.8.12"
  }
 },
 "nbformat": 4,
 "nbformat_minor": 5
}
