{
 "cells": [
  {
   "cell_type": "markdown",
   "id": "e4ed9d2e-6ab2-46b8-895b-b6c638ccb5e4",
   "metadata": {},
   "source": [
    "Statistics Canada. Table 32-10-0356-01  Area, production and sales of mushrooms\n",
    "DOI: https://doi.org/10.25318/3210035601-eng"
   ]
  },
  {
   "cell_type": "code",
   "execution_count": null,
   "id": "7934911f-52a6-4a76-ac27-00a54036ead5",
   "metadata": {},
   "outputs": [],
   "source": []
  }
 ],
 "metadata": {
  "kernelspec": {
   "display_name": "Python 3",
   "language": "python",
   "name": "python3"
  },
  "language_info": {
   "codemirror_mode": {
    "name": "ipython",
    "version": 3
   },
   "file_extension": ".py",
   "mimetype": "text/x-python",
   "name": "python",
   "nbconvert_exporter": "python",
   "pygments_lexer": "ipython3",
   "version": "3.8.12"
  }
 },
 "nbformat": 4,
 "nbformat_minor": 5
}
